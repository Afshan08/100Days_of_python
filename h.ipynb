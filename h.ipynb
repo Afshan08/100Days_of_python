{
 "cells": [
  {
   "cell_type": "code",
   "execution_count": 1,
   "metadata": {},
   "outputs": [
    {
     "name": "stdout",
     "output_type": "stream",
     "text": [
      "Welcome to the hangman game!\n",
      "c _ _ _ _\n",
      "c a _ _ _\n",
      "c a m _ _\n",
      "c a m e _\n",
      "You win\n",
      "c a m e l\n"
     ]
    }
   ],
   "source": [
    "import random as rd\n",
    "\n",
    "word_list = ['camel', 'baboon']\n",
    "final_word = rd.choice(word_list)  # randomly selects a word from the list\n",
    "lives = 6\n",
    "\n",
    "# Welcoming the user in the hangman game\n",
    "print(\"Welcome to the hangman game!\")\n",
    "\n",
    "# Defining when the game ends\n",
    "game_end = False\n",
    "\n",
    "ck = 0\n",
    "display = ['_'] * len(final_word)  # Initialize the display with underscores\n",
    "while not game_end:\n",
    "    guess = input(\"Could you guess a letter from the word: \").lower()\n",
    "    found = False  # Flag to check if the guessed letter is found in the word\n",
    "    # Making a logic\n",
    "    for position in range(len(final_word)):\n",
    "        if final_word[position] == guess:\n",
    "            display[position] = guess\n",
    "            found = True\n",
    "\n",
    "    if '_' not in display:  # Check if all letters are guessed correctly\n",
    "        game_end = True\n",
    "        print(\"You win\")\n",
    "    elif lives == 0:\n",
    "        game_end = True\n",
    "        print(\"You lose\")\n",
    "    elif not found:  # If the guessed letter is not found in the word\n",
    "        lives -= 1\n",
    "        print(f\"You have to play well. You are having {lives} chances left\")\n",
    "\n",
    "    print(' '.join(display))  # Print the current display of letters\n"
   ]
  }
 ],
 "metadata": {
  "kernelspec": {
   "display_name": "python_eda",
   "language": "python",
   "name": "python3"
  },
  "language_info": {
   "codemirror_mode": {
    "name": "ipython",
    "version": 3
   },
   "file_extension": ".py",
   "mimetype": "text/x-python",
   "name": "python",
   "nbconvert_exporter": "python",
   "pygments_lexer": "ipython3",
   "version": "3.12.0"
  }
 },
 "nbformat": 4,
 "nbformat_minor": 2
}
