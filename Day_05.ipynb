{
 "cells": [
  {
   "cell_type": "code",
   "execution_count": 93,
   "metadata": {},
   "outputs": [
    {
     "name": "stdout",
     "output_type": "stream",
     "text": [
      "apple\n",
      "banana\n",
      "cherry\n"
     ]
    }
   ],
   "source": [
    "fruits = [\"apple\", \"banana\", \"cherry\"]\n",
    "for x in fruits:\n",
    "    print(x)"
   ]
  },
  {
   "cell_type": "code",
   "execution_count": 94,
   "metadata": {},
   "outputs": [],
   "source": [
    "## Making a average height calculator from a class\n",
    "\n",
    "heights = input(\"insert height of the students separated by space\").split( \" \")\n",
    "for n in range (0, len(heights)):\n",
    "    heights[n]= int(heights[n])\n",
    "print(heights)\n",
    "    \n",
    "total_heights = 0\n",
    "for h in heights:\n",
    "    total_heights+=h\n",
    "print(total_heights)\n",
    " \n",
    "no_of_students = 0       \n",
    "for students in heights:\n",
    "    no_of_students+=1\n",
    "print(no_of_students)\n",
    "\n",
    "average = total_heights/no_of_students\n",
    "    \n",
    "    \n"
   ]
  },
  {
   "cell_type": "code",
   "execution_count": null,
   "metadata": {},
   "outputs": [
    {
     "name": "stdout",
     "output_type": "stream",
     "text": [
      "12.5\n"
     ]
    }
   ],
   "source": [
    "print(average)"
   ]
  },
  {
   "cell_type": "code",
   "execution_count": null,
   "metadata": {},
   "outputs": [],
   "source": [
    "## finding higest score\n",
    "scores = input(\"insert scores of the students separated by space\").split( \" \")\n",
    "for n in range (0, len(scores)):\n",
    "    scores[n]= int(scores[n])\n",
    "hiegst_score = 0\n",
    "for score in scores:\n",
    "    if score > hiegst_score:\n",
    "        hiegst_score = score\n"
   ]
  },
  {
   "cell_type": "code",
   "execution_count": null,
   "metadata": {},
   "outputs": [
    {
     "name": "stdout",
     "output_type": "stream",
     "text": [
      "[10, 20, 34, 28, 97, 65]\n",
      "the hiegstscore is: 97\n"
     ]
    }
   ],
   "source": [
    "\n",
    "print(scores)\n",
    "print(f\"the hiegstscore is: {hiegst_score}\")"
   ]
  },
  {
   "cell_type": "markdown",
   "metadata": {},
   "source": [
    "# **loop by using the range fuction**"
   ]
  },
  {
   "cell_type": "code",
   "execution_count": null,
   "metadata": {},
   "outputs": [
    {
     "name": "stdout",
     "output_type": "stream",
     "text": [
      "5050\n"
     ]
    }
   ],
   "source": [
    "number=0\n",
    "for n in range(1,101):\n",
    "    number+=n\n",
    "print(number)"
   ]
  },
  {
   "cell_type": "markdown",
   "metadata": {},
   "source": [
    "### **Calculating the even number from1 upto a 100**"
   ]
  },
  {
   "cell_type": "code",
   "execution_count": null,
   "metadata": {},
   "outputs": [
    {
     "name": "stdout",
     "output_type": "stream",
     "text": [
      "the sum of the even numbers is :2550\n"
     ]
    }
   ],
   "source": [
    "# calculator\n",
    "sum_of_even_numbers = 0\n",
    "for n in range (0,101,2):\n",
    "    sum_of_even_numbers+= n\n",
    "print(f\"the sum of the even numbers is :{sum_of_even_numbers}\")\n",
    "    \n"
   ]
  },
  {
   "cell_type": "code",
   "execution_count": null,
   "metadata": {},
   "outputs": [
    {
     "name": "stdout",
     "output_type": "stream",
     "text": [
      "1\n",
      "2\n",
      "fizz\n",
      "4\n",
      "buzz\n",
      "fizz\n",
      "7\n",
      "8\n",
      "fizz\n",
      "buzz\n",
      "11\n",
      "fizz\n",
      "13\n",
      "14\n",
      "fizzbuzz\n",
      "16\n",
      "17\n",
      "fizz\n",
      "19\n",
      "buzz\n",
      "fizz\n",
      "22\n",
      "23\n",
      "fizz\n",
      "buzz\n",
      "26\n",
      "fizz\n",
      "28\n",
      "29\n",
      "fizzbuzz\n",
      "31\n",
      "32\n",
      "fizz\n",
      "34\n",
      "buzz\n",
      "fizz\n",
      "37\n",
      "38\n",
      "fizz\n",
      "buzz\n",
      "41\n",
      "fizz\n",
      "43\n",
      "44\n",
      "fizzbuzz\n",
      "46\n",
      "47\n",
      "fizz\n",
      "49\n",
      "buzz\n",
      "fizz\n",
      "52\n",
      "53\n",
      "fizz\n",
      "buzz\n",
      "56\n",
      "fizz\n",
      "58\n",
      "59\n",
      "fizzbuzz\n",
      "61\n",
      "62\n",
      "fizz\n",
      "64\n",
      "buzz\n",
      "fizz\n",
      "67\n",
      "68\n",
      "fizz\n",
      "buzz\n",
      "71\n",
      "fizz\n",
      "73\n",
      "74\n",
      "fizzbuzz\n",
      "76\n",
      "77\n",
      "fizz\n",
      "79\n",
      "buzz\n",
      "fizz\n",
      "82\n",
      "83\n",
      "fizz\n",
      "buzz\n",
      "86\n",
      "fizz\n",
      "88\n",
      "89\n",
      "fizzbuzz\n",
      "91\n",
      "92\n",
      "fizz\n",
      "94\n",
      "buzz\n",
      "fizz\n",
      "97\n",
      "98\n",
      "fizz\n",
      "buzz\n"
     ]
    }
   ],
   "source": [
    "\n",
    "# What my program needs to do so:\n",
    "# 1. any number divisible by 3 then it should print fizz\n",
    "# 2. any number divisible by 5 then it should print buzz\n",
    "# 3. any number divisible by 3 and 5 both it should print fizzbuzz\n",
    "\n",
    "for n in range (1,101):\n",
    "    if n%3 == 0 and n%5 == 0:\n",
    "        print(\"FizzBuzz\")\n",
    "    elif n%3 == 0:\n",
    "        print(\"Fizz\")\n",
    "    elif n%5 == 0:\n",
    "        print(\"Buzz\")\n",
    "    \n",
    "    else:\n",
    "        print(n)\n",
    "\n"
   ]
  },
  {
   "cell_type": "markdown",
   "metadata": {},
   "source": [
    "## **Final Project of the day**"
   ]
  },
  {
   "cell_type": "code",
   "execution_count": 15,
   "metadata": {},
   "outputs": [
    {
     "name": "stdout",
     "output_type": "stream",
     "text": [
      "The number of letters that you want in your password is 10\n",
      "The number of numbers that you want in your password is 5\n",
      "The number of symbols that you want in your password is 1\n",
      "6%W7ky7KsZPLAu37\n"
     ]
    }
   ],
   "source": [
    "# making a password generator\n",
    "\n",
    "uppercase_letters = ['A', 'B', 'C', 'D', 'E', 'F', 'G', 'H', 'I', 'J', 'K', 'L', 'M', 'N', 'O', 'P', 'Q', 'R', 'S', 'T', 'U', 'V', 'W', 'X', 'Y', 'Z']\n",
    "\n",
    "lowercase_letters = ['a', 'b', 'c', 'd', 'e', 'f', 'g', 'h', 'i', 'j', 'k', 'l', 'm', 'n', 'o', 'p', 'q', 'r', 's', 't', 'u', 'v', 'w', 'x', 'y', 'z']\n",
    "\n",
    "letters = uppercase_letters + lowercase_letters\n",
    "symbols = ['!', '@', '#', '$', '%', '^', '&', '*', '(', ')', '-', '_', '+', '=', '[', ']', '{', '}', '|', '\\\\', ':', ';', '\"', \"'\", '<', '>', ',', '.', '?', '/', '~']\n",
    "\n",
    "numbers = ['0', '1', '2', '3', '4', '5', '6', '7', '8', '9']\n",
    "\n",
    "char_choice = int(input(\"How many letters would you like to have in your password?: \"))\n",
    "print(f\"The number of letters that you want in your password is {char_choice}\")\n",
    "number_choice = int(input(\"How many numbers would you like to have in your password?: \"))\n",
    "print(f\"The number of numbers that you want in your password is {number_choice}\")\n",
    "symbol_choice = int(input(\"How many symbols would you like to have in your password?: \"))\n",
    "print(f\"The number of symbols that you want in your password is {symbol_choice}\")\n",
    "import random as rd\n",
    "password = []\n",
    "for n in range (1, char_choice+1):\n",
    "    password.append( rd.choice(letters))\n",
    "for m in range (0, number_choice):\n",
    "    password.append( rd.choice(numbers))\n",
    "for l in range (0, symbol_choice):\n",
    "    password.append( rd.choice(symbols))\n",
    "rd.shuffle(password)\n",
    "password1 = ''\n",
    "for pas in password:\n",
    "    password1+=pas\n",
    "print(password1)"
   ]
  },
  {
   "cell_type": "code",
   "execution_count": 8,
   "metadata": {},
   "outputs": [
    {
     "name": "stdout",
     "output_type": "stream",
     "text": [
      "-7\n"
     ]
    }
   ],
   "source": [
    "n = int(input())\n",
    "arr = list(map(int, input().split()))\n",
    "max_score=max(arr)\n",
    "\n",
    "while max_score in arr:\n",
    "    arr.remove(max_score)\n",
    "print(max(arr))"
   ]
  }
 ],
 "metadata": {
  "kernelspec": {
   "display_name": "python_eda",
   "language": "python",
   "name": "python3"
  },
  "language_info": {
   "codemirror_mode": {
    "name": "ipython",
    "version": 3
   },
   "file_extension": ".py",
   "mimetype": "text/x-python",
   "name": "python",
   "nbconvert_exporter": "python",
   "pygments_lexer": "ipython3",
   "version": "3.12.0"
  }
 },
 "nbformat": 4,
 "nbformat_minor": 2
}
