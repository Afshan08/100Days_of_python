{
 "cells": [
  {
   "cell_type": "markdown",
   "metadata": {},
   "source": [
    "## **Project Hangman**"
   ]
  },
  {
   "cell_type": "code",
   "execution_count": 1,
   "metadata": {},
   "outputs": [],
   "source": [
    "import random as rd"
   ]
  },
  {
   "cell_type": "code",
   "execution_count": 2,
   "metadata": {},
   "outputs": [
    {
     "name": "stdout",
     "output_type": "stream",
     "text": [
      "You have 5 and you have chosed wrong.\n",
      "['_', '_', '_', '_', '_', '_']\n",
      "['b', '_', 'b', '_', '_', '_']\n",
      "You have 4 and you have chosed wrong.\n",
      "['b', '_', 'b', '_', '_', '_']\n",
      "You have 3 and you have chosed wrong.\n",
      "['b', '_', 'b', '_', '_', '_']\n",
      "You have 2 and you have chosed wrong.\n",
      "['b', '_', 'b', '_', '_', '_']\n",
      "You have 1 and you have chosed wrong.\n",
      "['b', '_', 'b', '_', '_', '_']\n",
      "You have 0 and you have chosed wrong.\n",
      "You lose\n",
      "['b', '_', 'b', '_', '_', '_']\n"
     ]
    }
   ],
   "source": [
    "game_ends = False\n",
    "display = []\n",
    "word_list = [\"camel\",\"baboon\"]\n",
    "# TODO 8: make a variable called lives and give it a value of 6\n",
    "live = 6\n",
    "\n",
    "\n",
    "# TODO 1: chose a random word from the list\n",
    "chosen_word = rd.choice(word_list)\n",
    "# TODO 4: make a list with underscores named display\n",
    "for letters in chosen_word:\n",
    "    display+= \"_\"\n",
    "while not game_ends:\n",
    "\n",
    "    if \"_\" not in display:\n",
    "        game_ends = True\n",
    "        print(\"You won\")\n",
    "    \n",
    "# TODO 2: ask the user to guess and add it in the variable called guess and make it lower guess\n",
    "    guess = input(\"Guess the letter? \").lower()\n",
    "    # TODO 3: Check if the letter that user guessed is one that is present in the chosen word\n",
    "    # TODO 5: loop theough each letter and find weather it macthes guess\n",
    "    for i in range(len(chosen_word)):\n",
    "        if chosen_word[i]== guess:\n",
    "            display[i]=guess\n",
    "            \n",
    "        # TODO 9: if guess is not in chosen word then reduce live by 1\n",
    "    if guess not in chosen_word:\n",
    "        live-=1\n",
    "        print(f\"You have {live} and you have chosed wrong.\")\n",
    "        if live == 0:\n",
    "            game_ends = True\n",
    "            print(\"You lose\")\n",
    "    # TODO 6: finally print the diplay\n",
    "    print(display)\n",
    "\n",
    "    "
   ]
  }
 ],
 "metadata": {
  "kernelspec": {
   "display_name": "python_eda",
   "language": "python",
   "name": "python3"
  },
  "language_info": {
   "codemirror_mode": {
    "name": "ipython",
    "version": 3
   },
   "file_extension": ".py",
   "mimetype": "text/x-python",
   "name": "python",
   "nbconvert_exporter": "python",
   "pygments_lexer": "ipython3",
   "version": "3.12.0"
  }
 },
 "nbformat": 4,
 "nbformat_minor": 2
}
