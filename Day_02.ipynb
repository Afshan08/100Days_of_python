{
 "cells": [
  {
   "cell_type": "markdown",
   "metadata": {},
   "source": [
    "### **This is a tip calculator with the bill created by the one and only Afshan Afridi on Day 02 of 100 days of python**"
   ]
  },
  {
   "cell_type": "code",
   "execution_count": 6,
   "metadata": {},
   "outputs": [
    {
     "name": "stdout",
     "output_type": "stream",
     "text": [
      "Welcome to a tip calculator\n",
      "What was the total bill?\n",
      "How many People to split the bill?\n",
      "What percentage tip would you like to give? 10,15,20.\n",
      "40.0\n"
     ]
    }
   ],
   "source": [
    "print(\"Welcome to a tip calculator\")\n",
    "bil = input(print(\"What was the total bill?\"))\n",
    "spli = input(print(\"How many People to split the bill?\"))\n",
    "ti = input(print(\"What percentage tip would you like to give? 10,15,20.\"))\n",
    "\n",
    "bill=float(bil)\n",
    "split = int(spli)\n",
    "tip = float(ti)\n",
    "answer = (bill/split)\n",
    "tip2 = tip/bill*100\n",
    "answer2= answer-tip\n",
    "answer2 = float(answer2)\n",
    "\n",
    "\n",
    "print(answer2)\n"
   ]
  }
 ],
 "metadata": {
  "kernelspec": {
   "display_name": "python_eda",
   "language": "python",
   "name": "python3"
  },
  "language_info": {
   "codemirror_mode": {
    "name": "ipython",
    "version": 3
   },
   "file_extension": ".py",
   "mimetype": "text/x-python",
   "name": "python",
   "nbconvert_exporter": "python",
   "pygments_lexer": "ipython3",
   "version": "3.12.0"
  }
 },
 "nbformat": 4,
 "nbformat_minor": 2
}
