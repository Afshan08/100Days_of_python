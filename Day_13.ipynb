{
 "cells": [
  {
   "cell_type": "markdown",
   "metadata": {},
   "source": [
    "### **Practice Debugging**"
   ]
  },
  {
   "cell_type": "code",
   "execution_count": 1,
   "metadata": {},
   "outputs": [
    {
     "name": "stdout",
     "output_type": "stream",
     "text": [
      "8\n"
     ]
    }
   ],
   "source": [
    "# def add_numbers(a, b)\n",
    "#     result = a + b\n",
    "#     return result\n",
    "\n",
    "# print(add_numbers(5, 3))\n",
    "\n",
    "'''solving the bug above '''\n",
    "def add_numbers(a, b):\n",
    "    result = a + b\n",
    "    return result\n",
    "\n",
    "print(add_numbers(5, 3))\n"
   ]
  },
  {
   "cell_type": "markdown",
   "metadata": {},
   "source": [
    "#### **Zero Division Error**"
   ]
  },
  {
   "cell_type": "code",
   "execution_count": 6,
   "metadata": {},
   "outputs": [
    {
     "name": "stdout",
     "output_type": "stream",
     "text": [
      "Average: Since division by zero is not possible therefore its a mathematicall error\n"
     ]
    }
   ],
   "source": [
    "# def calculate_average(numbers):\n",
    "#     total = sum(numbers)\n",
    "#     average = total / len(numbers)  # Bug: Division by 0\n",
    "#     return average\n",
    "\n",
    "# numbers = [10, 20, 30, 40, 50]\n",
    "# print(\"Average:\", calculate_average(numbers))\n",
    "'''Trying solving the above bug'''\n",
    "def calculate_average(numbers):\n",
    "    total = sum(numbers)\n",
    "    if len(numbers)==0:\n",
    "        return \"Since division by zero is not possible therefore its a mathematicall error\"\n",
    "    else:\n",
    "        average = total / len(numbers)  # Bug: Division by 0\n",
    "    return average\n",
    "\n",
    "numbers = []\n",
    "print(\"Average:\", calculate_average(numbers))\n"
   ]
  },
  {
   "cell_type": "markdown",
   "metadata": {},
   "source": [
    "### **Index error**"
   ]
  },
  {
   "cell_type": "code",
   "execution_count": 7,
   "metadata": {},
   "outputs": [
    {
     "name": "stdout",
     "output_type": "stream",
     "text": [
      "3\n"
     ]
    }
   ],
   "source": [
    "# my_list = [1, 2, 3]\n",
    "# print(my_list[3])  # Bug: Index out of range\n",
    "'''solving the bug'''\n",
    "my_list = [1, 2, 3]\n",
    "print(my_list[2])  # Bug: Index out of range\n"
   ]
  },
  {
   "cell_type": "markdown",
   "metadata": {},
   "source": [
    "### **Type error**"
   ]
  },
  {
   "cell_type": "code",
   "execution_count": 9,
   "metadata": {},
   "outputs": [
    {
     "name": "stdout",
     "output_type": "stream",
     "text": [
      "30\n"
     ]
    }
   ],
   "source": [
    "# num1 = 10\n",
    "# num2 = \"20\"\n",
    "# print(num1 + num2)  # Bug: Adding int and string\n",
    "'''Sorting the bug out.'''\n",
    "num1 = 10\n",
    "num2 = 20\n",
    "print(num1 + num2)  # Bug: Adding int and string\n",
    "\n",
    "\n"
   ]
  },
  {
   "cell_type": "markdown",
   "metadata": {},
   "source": [
    "### **Unbound Local Error**"
   ]
  },
  {
   "cell_type": "code",
   "execution_count": 16,
   "metadata": {},
   "outputs": [
    {
     "name": "stdout",
     "output_type": "stream",
     "text": [
      "20\n"
     ]
    }
   ],
   "source": [
    "# x = 10\n",
    "\n",
    "# def func():\n",
    "#     print(x)\n",
    "#     x = 20\n",
    "\n",
    "# func()\n",
    "\n",
    "\"\"\"Solving the bug\"\"\"\n",
    "x = 10\n",
    "\n",
    "def func():\n",
    "    x = 20\n",
    "    print(x)\n",
    "\n",
    "\n",
    "\n",
    "\n",
    "func()\n"
   ]
  },
  {
   "cell_type": "markdown",
   "metadata": {},
   "source": [
    "### **Attribute Error**"
   ]
  },
  {
   "cell_type": "code",
   "execution_count": 18,
   "metadata": {},
   "outputs": [
    {
     "name": "stdout",
     "output_type": "stream",
     "text": [
      "Square root of the number is: 2.449489742783178\n"
     ]
    }
   ],
   "source": [
    "# class MyClass:\n",
    "#     def __init__(self, value):\n",
    "#         self.value = value\n",
    "\n",
    "# obj = MyClass(5)\n",
    "# print(obj.value)\n",
    "# print(obj.non_existent_attribute)\n",
    "\n",
    "user_input = input(\"Enter a number: \")\n",
    "num = int(user_input)\n",
    "print(\"Square root of the number is:\", num ** 0.5)\n",
    "\n"
   ]
  },
  {
   "cell_type": "code",
   "execution_count": 20,
   "metadata": {},
   "outputs": [
    {
     "name": "stdout",
     "output_type": "stream",
     "text": [
      "The sum of the numbers is: 0\n"
     ]
    }
   ],
   "source": [
    "def calculate_sum(numbers):\n",
    "    total = 0\n",
    "    for num in numbers:\n",
    "        total += num\n",
    "    return total\n",
    "\n",
    "numbers = []\n",
    "print(\"The sum of the numbers is:\", calculate_sum(numbers))\n"
   ]
  },
  {
   "cell_type": "markdown",
   "metadata": {},
   "source": []
  }
 ],
 "metadata": {
  "kernelspec": {
   "display_name": "python_eda",
   "language": "python",
   "name": "python3"
  },
  "language_info": {
   "codemirror_mode": {
    "name": "ipython",
    "version": 3
   },
   "file_extension": ".py",
   "mimetype": "text/x-python",
   "name": "python",
   "nbconvert_exporter": "python",
   "pygments_lexer": "ipython3",
   "version": "3.12.0"
  }
 },
 "nbformat": 4,
 "nbformat_minor": 2
}
