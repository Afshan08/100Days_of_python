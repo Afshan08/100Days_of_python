{
 "cells": [
  {
   "cell_type": "markdown",
   "metadata": {},
   "source": [
    "## **Dictionaries**"
   ]
  },
  {
   "cell_type": "code",
   "execution_count": 2,
   "metadata": {},
   "outputs": [
    {
     "name": "stdout",
     "output_type": "stream",
     "text": [
      "bug\n",
      "an error in a program that prevents the program from running as expected.\n",
      "algorithm\n",
      "a set of instructions\n",
      "function\n",
      "a set of instructions that accomplish a particular task.\n",
      "loop\n",
      "used to repeat a block of code.\n",
      "language\n",
      "the language\n"
     ]
    }
   ],
   "source": [
    "## creeating a dictionary\n",
    "programing = {\n",
    "    'bug': 'an error in a program that prevents the program from running as expected.',\n",
    "    'algorithm': 'a set of instructions',\n",
    "    'function':'a set of instructions that accomplish a particular task.',\n",
    "    'loop':'used to repeat a block of code.'\n",
    "    \n",
    "}\n",
    "\n",
    "\n",
    "# adding new items to the programing dictionary;\n",
    "programing['language'] = 'the language'\n",
    "## creating empty dictionary\n",
    "empty_dictionary = {}\n",
    "## loping through a dictionary\n",
    "for thing in programing:\n",
    "    print(thing)\n",
    "    print(programing[thing])\n",
    "\n"
   ]
  },
  {
   "cell_type": "markdown",
   "metadata": {},
   "source": [
    "### **Challenge 9.1**"
   ]
  },
  {
   "cell_type": "code",
   "execution_count": 3,
   "metadata": {},
   "outputs": [
    {
     "name": "stdout",
     "output_type": "stream",
     "text": [
      "{'John Doe': 'Exceeds Expectations', 'Jane Smith': 'Exceeds Expectations', 'Mike Johnson': 'Acceptable', 'William Brown': 'Fail', 'Emma Davis': 'Fail'}\n"
     ]
    }
   ],
   "source": [
    "# defining a dictionary\n",
    "students_scores = {\n",
    "    'John Doe': 85,\n",
    "    'Jane Smith': 90,\n",
    "    'Mike Johnson': 77,\n",
    "    \n",
    "    'William Brown': 70,\n",
    "    'Emma Davis': 64\n",
    "}\n",
    "studen_grades = {}\n",
    "# iterating over the students_scores dictionary\n",
    "for students in students_scores:\n",
    "    score = students_scores[students]\n",
    "    if score>90:\n",
    "        studen_grades[students] = 'Outstanding'\n",
    "    elif score>80:\n",
    "        studen_grades[students] = 'Exceeds Expectations'\n",
    "    elif score>70:\n",
    "        studen_grades[students] = 'Acceptable'\n",
    "    else:\n",
    "        studen_grades[students] = 'Fail'\n",
    "print(studen_grades)"
   ]
  },
  {
   "cell_type": "markdown",
   "metadata": {},
   "source": [
    "## **Trying Nesting**"
   ]
  },
  {
   "cell_type": "code",
   "execution_count": 5,
   "metadata": {},
   "outputs": [],
   "source": [
    "# practicing nesting\n",
    "travel_log1 = {\n",
    "    \"France\" : ['paris', 'london', 'dublin'],\n",
    "    'Germany' :['Berlin','Hamburg','Stuttgart']\n",
    "    \n",
    "}\n",
    "# Nesting dictionaried into dictionaries\n",
    "#Nesting dictionary inside a list:\n",
    "\n"
   ]
  },
  {
   "cell_type": "markdown",
   "metadata": {},
   "source": [
    "### **Day_9.3**"
   ]
  },
  {
   "cell_type": "code",
   "execution_count": 21,
   "metadata": {},
   "outputs": [
    {
     "name": "stdout",
     "output_type": "stream",
     "text": [
      "[{'country': 'France', 'cities_visited': ['Paris', 'London', 'Dublin'], 'Total_visits': '5'}, {'country': 'Italy', 'cities_visited': ['Rome', 'Florence', 'Venice'], 'Total_visits': '4'}, {'country': 'Spain', 'cities_visited': ['Madrid', 'Barcelona', 'Seville'], 'Total_visits': '3'}, {'country': ('Russia',), 'Total_visits': (2,), 'cities_visited': ['Moscow', 'Saint Petersburg']}, {'country': ('Japan',), 'Total_visits': (5,), 'cities_visited': ['Tokyo', 'Kyoto']}]\n"
     ]
    },
    {
     "data": {
      "text/html": [
       "<div>\n",
       "<style scoped>\n",
       "    .dataframe tbody tr th:only-of-type {\n",
       "        vertical-align: middle;\n",
       "    }\n",
       "\n",
       "    .dataframe tbody tr th {\n",
       "        vertical-align: top;\n",
       "    }\n",
       "\n",
       "    .dataframe thead th {\n",
       "        text-align: right;\n",
       "    }\n",
       "</style>\n",
       "<table border=\"1\" class=\"dataframe\">\n",
       "  <thead>\n",
       "    <tr style=\"text-align: right;\">\n",
       "      <th></th>\n",
       "      <th>country</th>\n",
       "      <th>cities_visited</th>\n",
       "      <th>Total_visits</th>\n",
       "    </tr>\n",
       "  </thead>\n",
       "  <tbody>\n",
       "    <tr>\n",
       "      <th>0</th>\n",
       "      <td>France</td>\n",
       "      <td>[Paris, London, Dublin]</td>\n",
       "      <td>5</td>\n",
       "    </tr>\n",
       "    <tr>\n",
       "      <th>1</th>\n",
       "      <td>Italy</td>\n",
       "      <td>[Rome, Florence, Venice]</td>\n",
       "      <td>4</td>\n",
       "    </tr>\n",
       "    <tr>\n",
       "      <th>2</th>\n",
       "      <td>Spain</td>\n",
       "      <td>[Madrid, Barcelona, Seville]</td>\n",
       "      <td>3</td>\n",
       "    </tr>\n",
       "    <tr>\n",
       "      <th>3</th>\n",
       "      <td>(Russia,)</td>\n",
       "      <td>[Moscow, Saint Petersburg]</td>\n",
       "      <td>(2,)</td>\n",
       "    </tr>\n",
       "    <tr>\n",
       "      <th>4</th>\n",
       "      <td>(Japan,)</td>\n",
       "      <td>[Tokyo, Kyoto]</td>\n",
       "      <td>(5,)</td>\n",
       "    </tr>\n",
       "  </tbody>\n",
       "</table>\n",
       "</div>"
      ],
      "text/plain": [
       "     country                cities_visited Total_visits\n",
       "0     France       [Paris, London, Dublin]            5\n",
       "1      Italy      [Rome, Florence, Venice]            4\n",
       "2      Spain  [Madrid, Barcelona, Seville]            3\n",
       "3  (Russia,)    [Moscow, Saint Petersburg]         (2,)\n",
       "4   (Japan,)                [Tokyo, Kyoto]         (5,)"
      ]
     },
     "execution_count": 21,
     "metadata": {},
     "output_type": "execute_result"
    }
   ],
   "source": [
    "\n",
    "travel_log = [\n",
    "    {\n",
    "        'country': 'France',\n",
    "        'cities_visited': ['Paris', 'London', 'Dublin'],\n",
    "        'Total_visits': '5'\n",
    "    },\n",
    "    {\n",
    "        'country': 'Italy',\n",
    "        'cities_visited': ['Rome', 'Florence', 'Venice'],\n",
    "        'Total_visits': '4'\n",
    "    },\n",
    "    {\n",
    "        'country': 'Spain',\n",
    "        'cities_visited': ['Madrid', 'Barcelona', 'Seville'],\n",
    "        'Total_visits': '3'\n",
    "    }\n",
    "]\n",
    "import pandas as pd\n",
    "\n",
    "def add_new_country(any_country,no_of_visits,cities_visited):\n",
    "    new_country = {}\n",
    "    new_country['country']=any_country,\n",
    "    new_country['Total_visits']=no_of_visits,\n",
    "    new_country['cities_visited']=cities_visited\n",
    "        \n",
    "    \n",
    "    travel_log.append(new_country)\n",
    "add_new_country('Russia',2,['Moscow','Saint Petersburg'])\n",
    "\n",
    "add_new_country('Japan',5,['Tokyo','Kyoto'])\n",
    "print(travel_log)\n",
    "travel_log\n",
    "df = pd.DataFrame(travel_log)\n",
    "df\n",
    "\n"
   ]
  },
  {
   "cell_type": "markdown",
   "metadata": {},
   "source": [
    "### **Final Auction Program**"
   ]
  },
  {
   "cell_type": "code",
   "execution_count": 30,
   "metadata": {},
   "outputs": [
    {
     "data": {
      "text/plain": [
       "'Afshan Afridi'"
      ]
     },
     "execution_count": 30,
     "metadata": {},
     "output_type": "execute_result"
    }
   ],
   "source": [
    "#creating functions with output\n",
    "def format_name():\n",
    "    f_name = input(\"Inser your name :\\n\")\n",
    "    l_name = input(\"Insert your lasr name: \\n\")\n",
    "    final_nme = f_name.title() + \" \" + l_name.title()\n",
    "    return final_nme\n",
    "format_name()\n",
    "    "
   ]
  }
 ],
 "metadata": {
  "kernelspec": {
   "display_name": "python_eda",
   "language": "python",
   "name": "python3"
  },
  "language_info": {
   "codemirror_mode": {
    "name": "ipython",
    "version": 3
   },
   "file_extension": ".py",
   "mimetype": "text/x-python",
   "name": "python",
   "nbconvert_exporter": "python",
   "pygments_lexer": "ipython3",
   "version": "3.12.0"
  }
 },
 "nbformat": 4,
 "nbformat_minor": 2
}
