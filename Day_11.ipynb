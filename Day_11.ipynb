{
 "cells": [
  {
   "cell_type": "markdown",
   "metadata": {},
   "source": [
    "## **Black Jack Game**"
   ]
  },
  {
   "cell_type": "code",
   "execution_count": 3,
   "metadata": {},
   "outputs": [
    {
     "name": "stderr",
     "output_type": "stream",
     "text": [
      "<>:1: SyntaxWarning: invalid escape sequence '\\/'\n",
      "<>:1: SyntaxWarning: invalid escape sequence '\\/'\n",
      "C:\\Users\\Ehsan Afridi\\AppData\\Local\\Temp\\ipykernel_7004\\2039161238.py:1: SyntaxWarning: invalid escape sequence '\\/'\n",
      "  logo = \"\"\"\n"
     ]
    }
   ],
   "source": [
    "logo = \"\"\"\n",
    ".------.            _     _            _    _            _    \n",
    "|A_  _ |.          | |   | |          | |  (_)          | |   \n",
    "|( \\/ ).-----.     | |__ | | __ _  ___| | ___  __ _  ___| | __\n",
    "| \\  /|K /\\  |     | '_ \\| |/ _` |/ __| |/ / |/ _` |/ __| |/ /\n",
    "|  \\/ | /  \\ |     | |_) | | (_| | (__|   <| | (_| | (__|   < \n",
    "`-----| \\  / |     |_.__/|_|\\__,_|\\___|_|\\_\\ |\\__,_|\\___|_|\\_\\\\\n",
    "      |  \\/ K|                            _/ |                \n",
    "      \"\"\""
   ]
  },
  {
   "cell_type": "code",
   "execution_count": 4,
   "metadata": {},
   "outputs": [
    {
     "name": "stdout",
     "output_type": "stream",
     "text": [
      "\n",
      ".------.            _     _            _    _            _    \n",
      "|A_  _ |.          | |   | |          | |  (_)          | |   \n",
      "|( \\/ ).-----.     | |__ | | __ _  ___| | ___  __ _  ___| | __\n",
      "| \\  /|K /\\  |     | '_ \\| |/ _` |/ __| |/ / |/ _` |/ __| |/ /\n",
      "|  \\/ | /  \\ |     | |_) | | (_| | (__|   <| | (_| | (__|   < \n",
      "`-----| \\  / |     |_.__/|_|\\__,_|\\___|_|\\_\\ |\\__,_|\\___|_|\\_\\\n",
      "      |  \\/ K|                            _/ |                \n",
      "      \n",
      "Your cards are [11, 7] and your score is 18\n",
      "The computers card is 3\n",
      "[11, 7, 8]\n",
      "Your cards are [7, 8, 1] and your score is 16\n",
      "The computers card is 3\n",
      "Computers final hand is [3, 10, 9] and score is 22\n",
      "\n",
      " Computer went over and you win!\n"
     ]
    }
   ],
   "source": [
    "import random as rd\n",
    "from IPython.display import clear_output\n",
    "card = [11,2,3,4,5,6,7,8,9,10,10,10,10]\n",
    "\n",
    "def deal_cards(cards):\n",
    "    '''Returns an random card from the deck'''\n",
    "    cards= [11,2,3,4,5,6,7,8,9,10,10,10,10]\n",
    "    cards = rd.choice(card)\n",
    "    return cards\n",
    "def calculate_score(cards):\n",
    "    if sum(cards)==21 and len(cards) == 2:\n",
    "        return 0\n",
    "        \n",
    "    elif 11 in cards and sum(cards) > 21:\n",
    "        cards.remove(11)\n",
    "        cards.append(1)\n",
    "    return sum(cards)\n",
    "def compare(user_score,computer_score):\n",
    "    if user_score == computer_score:\n",
    "        return\"Its a draw since you both have a same score.\"\n",
    "    elif computer_score == 0:\n",
    "        return \"The computer has a blackjack and you lose.\"\n",
    "    elif user_score == 0:\n",
    "        return 'You have a blackjack. You win!'\n",
    "    elif user_score > 21:\n",
    "        return \"You went over and you lose.\"\n",
    "    elif computer_score > 21:\n",
    "        return \"Computer went over and you win!\"\n",
    "    elif user_score > computer_score:\n",
    "        return \"You win!\"\n",
    "    else:\n",
    "        return \"You lose\"\n",
    "        \n",
    "    \n",
    "    \n",
    "# step 5:\n",
    "def play_game ():\n",
    "    user_card = []\n",
    "    computer_card = []\n",
    "    for _ in range(2):\n",
    "        new_card = deal_cards(card)\n",
    "        user_card.append(new_card)\n",
    "        computer_card.append(deal_cards(card))\n",
    "\n",
    "    is_game_over = False\n",
    "    while not is_game_over:\n",
    "        user_score = calculate_score(user_card)\n",
    "        computer_score = calculate_score(computer_card)\n",
    "        print(f\"Your cards are {user_card} and your score is {user_score}\")\n",
    "        print(f\"The computers card is {computer_card[0]}\")\n",
    "    \n",
    "        if user_score == 0 or computer_score == 0 or user_score > 21 or computer_score > 21:\n",
    "            is_game_over = True\n",
    "        else:\n",
    "            user_should_deal = input(\"Type 'y' to get another card\")\n",
    "            if user_should_deal == 'y':\n",
    "                user_card .append(deal_cards(card))\n",
    "                print(user_card)\n",
    "            else:\n",
    "                is_game_over = True\n",
    "    while computer_score != 0 and computer_score < 17:\n",
    "        computer_card.append(deal_cards(card))\n",
    "        computer_score = calculate_score(computer_card)\n",
    "    print(f\"Computers final hand is {computer_card} and score is {computer_score}\")\n",
    "\n",
    "    print(f'\\n {compare(user_score,computer_score)}')\n",
    "\n",
    "# creating the function compare:\n",
    "print(logo)\n",
    "play_game()\n",
    "while input(\"Do you want to play a game of Blackjack? Type 'y' or 'n': \") == 'y':\n",
    "    \n",
    "    clear_output(wait=False)\n",
    "    print(logo)\n",
    "    play_game()\n",
    "    \n",
    "\n",
    "\n",
    "\n",
    "\n",
    "\n",
    "        "
   ]
  },
  {
   "cell_type": "code",
   "execution_count": null,
   "metadata": {},
   "outputs": [],
   "source": []
  }
 ],
 "metadata": {
  "kernelspec": {
   "display_name": "python_eda",
   "language": "python",
   "name": "python3"
  },
  "language_info": {
   "codemirror_mode": {
    "name": "ipython",
    "version": 3
   },
   "file_extension": ".py",
   "mimetype": "text/x-python",
   "name": "python",
   "nbconvert_exporter": "python",
   "pygments_lexer": "ipython3",
   "version": "3.12.0"
  }
 },
 "nbformat": 4,
 "nbformat_minor": 2
}
