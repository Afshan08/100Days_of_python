{
 "cells": [
  {
   "cell_type": "markdown",
   "metadata": {},
   "source": [
    "## **Dictionaries**"
   ]
  },
  {
   "cell_type": "code",
   "execution_count": 6,
   "metadata": {},
   "outputs": [
    {
     "name": "stdout",
     "output_type": "stream",
     "text": [
      "bug\n",
      "an error in a program that prevents the program from running as expected.\n",
      "algorithm\n",
      "a set of instructions\n",
      "function\n",
      "a set of instructions that accomplish a particular task.\n",
      "loop\n",
      "used to repeat a block of code.\n",
      "language\n",
      "the language\n"
     ]
    }
   ],
   "source": [
    "## creeating a dictionary\n",
    "programing = {\n",
    "    'bug': 'an error in a program that prevents the program from running as expected.',\n",
    "    'algorithm': 'a set of instructions',\n",
    "    'function':'a set of instructions that accomplish a particular task.',\n",
    "    'loop':'used to repeat a block of code.'\n",
    "    \n",
    "}\n",
    "\n",
    "\n",
    "# adding new items to the programing dictionary;\n",
    "programing['language'] = 'the language'\n",
    "## creating empty dictionary\n",
    "empty_dictionary = {}\n",
    "## loping through a dictionary\n",
    "for thing in programing:\n",
    "    print(thing)\n",
    "    print(programing[thing])\n",
    "\n"
   ]
  },
  {
   "cell_type": "markdown",
   "metadata": {},
   "source": [
    "### **Challenge 9.1**"
   ]
  },
  {
   "cell_type": "code",
   "execution_count": 21,
   "metadata": {},
   "outputs": [
    {
     "name": "stdout",
     "output_type": "stream",
     "text": [
      "{'Emma Davis': 'Fail'}\n"
     ]
    }
   ],
   "source": [
    "# defining a dictionary\n",
    "students_scores = {\n",
    "    'John Doe': 85,\n",
    "    'Jane Smith': 90,\n",
    "    'Mike Johnson': 77,\n",
    "    \n",
    "    'William Brown': 70,\n",
    "    'Emma Davis': 64\n",
    "}\n",
    "studen_grades = {}\n",
    "# iterating over the students_scores dictionary\n",
    "for scores in students_scores:\n",
    "    score =students_scores[scores]\n",
    "    if score in range(91, 101):\n",
    "        studen_grades ={scores : 'Outstanding'}\n",
    "    elif score in range (80,91):\n",
    "        studen_grades = {scores: \"Exceeds expectations\"}\n",
    "    elif score in range(71,81):\n",
    "        studen_grades = {scores: \"Acceptable\"}\n",
    "    else:\n",
    "        studen_grades = {scores : 'Fail'}\n",
    "    \n",
    "print(studen_grades)"
   ]
  }
 ],
 "metadata": {
  "kernelspec": {
   "display_name": "python_eda",
   "language": "python",
   "name": "python3"
  },
  "language_info": {
   "codemirror_mode": {
    "name": "ipython",
    "version": 3
   },
   "file_extension": ".py",
   "mimetype": "text/x-python",
   "name": "python",
   "nbconvert_exporter": "python",
   "pygments_lexer": "ipython3",
   "version": "3.12.0"
  }
 },
 "nbformat": 4,
 "nbformat_minor": 2
}
