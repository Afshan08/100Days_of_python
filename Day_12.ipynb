{
 "cells": [
  {
   "cell_type": "markdown",
   "metadata": {},
   "source": [
    "### **Number Guessing game**"
   ]
  },
  {
   "cell_type": "code",
   "execution_count": 24,
   "metadata": {},
   "outputs": [
    {
     "name": "stdout",
     "output_type": "stream",
     "text": [
      "Welcome to the Number Guessing Game!\n",
      "I'm thinking of a number between 1 and 100.\n",
      "Your guess is too high your lives are 9\n",
      "Your guess is too high your lives are 8\n",
      "Your guess is too high your lives are 7\n",
      "Your guess is too high your lives are 6\n",
      "Your guess is too high your lives are 5\n",
      "Your guess is too high your lives are 4\n",
      "Your guess is too high your lives are 3\n",
      "Your guess is too high your lives are 2\n",
      "Your guess is too high your lives are 1\n",
      "Your guess is too high your lives are 0\n",
      "You lose\n"
     ]
    }
   ],
   "source": [
    "#creating a game for guessing a number\n",
    "import random as rd\n",
    "number = rd.randint(1,100)\n",
    "print(\"Welcome to the Number Guessing Game!\")\n",
    "get_the_level = True\n",
    "\n",
    "print(\"I'm thinking of a number between 1 and 100.\")\n",
    "lives =0\n",
    "level = input(\"Do you want to paly in easy or hard mode? Enter 'easy' or 'hard': \").lower()\n",
    "if level == \"easy\":\n",
    "    lives = 10\n",
    "else:\n",
    "    lives = 5\n",
    "# defining the game\n",
    "\n",
    "    \n",
    "game_ends = False  \n",
    "while not game_ends: \n",
    "    guess = int(input(\"Guess the number: \"))\n",
    "    \n",
    "   \n",
    "    if life == 0:\n",
    "        print(\"You lose\")\n",
    "        game_ends = True\n",
    "    elif number == guess:\n",
    "        print(f\"You are right you guessed it in {life}\")\n",
    "        game_ends = True\n",
    "    elif number > guess:\n",
    "        life = lives -1\n",
    "        lives = life\n",
    "        print(f\"Your guess is too low your lives are {life}\")\n",
    "       \n",
    "    elif number < guess:\n",
    "        life = lives -1\n",
    "        lives = life\n",
    "        print(f\"Your guess is too high your lives are {life}\")\n",
    "        \n",
    "    \n",
    "    \n",
    "            \n"
   ]
  },
  {
   "cell_type": "code",
   "execution_count": 12,
   "metadata": {},
   "outputs": [
    {
     "ename": "NameError",
     "evalue": "name 'guess' is not defined",
     "output_type": "error",
     "traceback": [
      "\u001b[1;31m---------------------------------------------------------------------------\u001b[0m",
      "\u001b[1;31mNameError\u001b[0m                                 Traceback (most recent call last)",
      "Cell \u001b[1;32mIn[12], line 2\u001b[0m\n\u001b[0;32m      1\u001b[0m lives\n\u001b[1;32m----> 2\u001b[0m \u001b[43mguess\u001b[49m\n",
      "\u001b[1;31mNameError\u001b[0m: name 'guess' is not defined"
     ]
    }
   ],
   "source": [
    "\n",
    "lives\n",
    "\n"
   ]
  },
  {
   "cell_type": "code",
   "execution_count": null,
   "metadata": {},
   "outputs": [],
   "source": []
  }
 ],
 "metadata": {
  "kernelspec": {
   "display_name": "python_eda",
   "language": "python",
   "name": "python3"
  },
  "language_info": {
   "codemirror_mode": {
    "name": "ipython",
    "version": 3
   },
   "file_extension": ".py",
   "mimetype": "text/x-python",
   "name": "python",
   "nbconvert_exporter": "python",
   "pygments_lexer": "ipython3",
   "version": "3.12.0"
  }
 },
 "nbformat": 4,
 "nbformat_minor": 2
}
