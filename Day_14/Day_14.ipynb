{
 "cells": [
  {
   "cell_type": "markdown",
   "metadata": {},
   "source": [
    "## **Higher Lower Game**"
   ]
  },
  {
   "cell_type": "code",
   "execution_count": 2,
   "metadata": {},
   "outputs": [
    {
     "name": "stderr",
     "output_type": "stream",
     "text": [
      "c:\\six_monts_DL\\100Days_of_python\\Day_14\\art.py:1: SyntaxWarning: invalid escape sequence '\\/'\n",
      "  logo = \"\"\"\n"
     ]
    }
   ],
   "source": [
    "# Importing the important libraries\n",
    "import random as rd\n",
    "from art import logo , vs\n",
    "from game_data import data"
   ]
  },
  {
   "cell_type": "code",
   "execution_count": 3,
   "metadata": {},
   "outputs": [
    {
     "name": "stdout",
     "output_type": "stream",
     "text": [
      "Random Number 1 is:  5\n",
      "Random Number 2 is:  19\n"
     ]
    }
   ],
   "source": [
    "#finding the length of data\n",
    "len(data)\n",
    "#now making a random number accordingly\n",
    "rand_num_1 = rd.randint(0,50)\n",
    "rand_num_2 = rd.randint(0,50)\n",
    "print(\"Random Number 1 is: \",rand_num_1)\n",
    "print(\"Random Number 2 is: \",rand_num_2)\n",
    "\n"
   ]
  },
  {
   "cell_type": "code",
   "execution_count": 21,
   "metadata": {},
   "outputs": [
    {
     "name": "stdout",
     "output_type": "stream",
     "text": [
      "\n",
      "    __  ___       __             \n",
      "   / / / (_)___ _/ /_  ___  _____\n",
      "  / /_/ / / __ `/ __ \\/ _ \\/ ___/\n",
      " / __  / / /_/ / / / /  __/ /    \n",
      "/_/ ///_/\\__, /_/ /_/\\___/_/     \n",
      "   / /  /____/_      _____  _____\n",
      "  / /   / __ \\ | /| / / _ \\/ ___/\n",
      " / /___/ /_/ / |/ |/ /  __/ /    \n",
      "/_____/\\____/|__/|__/\\___/_/     \n",
      "\n",
      "Wrong\n",
      "Your final score was 9\n"
     ]
    }
   ],
   "source": [
    "from IPython.display import clear_output\n",
    "game_ends = False\n",
    "final_score  = 0\n",
    "#finding the length of data\n",
    "len(data)\n",
    "\n",
    "#now making a random number accordingly\n",
    "play_again = input(\"Do you want to play the higher lower game? Type 'y' for yes and 'n' for no: \").lower()\n",
    "if play_again == \"y\":\n",
    "    game_ends = False\n",
    "else:\n",
    "    game_ends = True\n",
    "rand_num_2 = rd.randint(1,49) \n",
    "print(logo)\n",
    "while not game_ends:\n",
    "    rand_num_1 = rand_num_2\n",
    "    #generating a random index between \n",
    "    rand_num_2 = rd.randint(0,49)\n",
    "    \n",
    "    while rand_num_2 == rand_num_1:\n",
    "        rand_num_2 = rd.randint(1,49)\n",
    "\n",
    "\n",
    "    # Writing the code for print fucrtion:\n",
    "    first = data[rand_num_1]\n",
    "    seconed = data[rand_num_2]\n",
    "    \n",
    "    # Another print statement explaining the game\n",
    "    print(\"What do you think which one has more followers?\")\n",
    "    print(f\"Compare A : {first[\"name\"]} a {first[\"description\"]} from {first[\"country\"]}\")\n",
    "    print(vs)\n",
    "    print(f\"Compare B : {seconed[\"name\"]} a {seconed[\"description\"]} from {seconed[\"country\"]}\")\n",
    "    # definig an other variable\n",
    "    follower_1 = first[\"follower_count\"]\n",
    "    follower_2 = seconed[\"follower_count\"]\n",
    "    print(follower_1,follower_2)\n",
    "    decision = input(\"Who has more followers? Type 'A' or 'B': \").upper()\n",
    "    clear_output(wait = True)\n",
    "    print(logo)\n",
    "    # lets deine a variable winner:\n",
    "    winner = \"\"\n",
    "    if follower_1 > follower_2:\n",
    "        winner = \"A\"\n",
    "    elif follower_2 > follower_1:\n",
    "        winner = \"B\"\n",
    "    else:\n",
    "        winner = \"Draw\"\n",
    "    if winner == decision:\n",
    "        print(\"You are right\")\n",
    "        final_score+= 1\n",
    "        print(f\"Your final score is {final_score}\")\n",
    "        \n",
    "        \n",
    "    else:\n",
    "\n",
    "        print(\"Wrong\")\n",
    "        game_ends = True\n",
    "        print(f\"Your final score was {final_score}\")\n"
   ]
  },
  {
   "cell_type": "code",
   "execution_count": null,
   "metadata": {},
   "outputs": [],
   "source": []
  }
 ],
 "metadata": {
  "kernelspec": {
   "display_name": "python_eda",
   "language": "python",
   "name": "python3"
  },
  "language_info": {
   "codemirror_mode": {
    "name": "ipython",
    "version": 3
   },
   "file_extension": ".py",
   "mimetype": "text/x-python",
   "name": "python",
   "nbconvert_exporter": "python",
   "pygments_lexer": "ipython3",
   "version": "3.12.0"
  }
 },
 "nbformat": 4,
 "nbformat_minor": 2
}
