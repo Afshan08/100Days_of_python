{
 "cells": [
  {
   "cell_type": "code",
   "execution_count": 2,
   "metadata": {},
   "outputs": [
    {
     "data": {
      "text/plain": [
       "29"
      ]
     },
     "execution_count": 2,
     "metadata": {},
     "output_type": "execute_result"
    }
   ],
   "source": [
    "\n",
    "def is_leap(year):\n",
    "    \n",
    "    if year%4 == 0:\n",
    "        if year%100 == 0:\n",
    "            if year%400 == 0:\n",
    "                return True\n",
    "            else:\n",
    "                return False\n",
    "        else:\n",
    "            return True\n",
    "    else:\n",
    "        return False\n",
    "def days_in_month(year,month):\n",
    "    months_days = [31, 28, 31, 30, 31, 30, 31, 31, 30, 31, 30, 31]  \n",
    "    if month > 12 or month < 1:\n",
    "        return \"Invalid month\"\n",
    "    if is_leap(year) and month == 2:\n",
    "        \n",
    "        return 29\n",
    "    return months_days[month - 1]\n",
    "days_in_month(2024 , 2)\n",
    "        "
   ]
  },
  {
   "cell_type": "markdown",
   "metadata": {},
   "source": [
    "## **Final Project**<br>\n",
    "## **Calculator**"
   ]
  },
  {
   "cell_type": "code",
   "execution_count": null,
   "metadata": {},
   "outputs": [],
   "source": [
    "art = '''\n",
    " __________\n",
    "| ________ |\n",
    "||12345678||\n",
    "|\"\"\"\"\"\"\"\"\"\"|\n",
    "|[M|#|C][-]|\n",
    "|[7|8|9][+]|\n",
    "|[4|5|6][x]|\n",
    "|[1|2|3][%]|\n",
    "|[.|O|:][=]|\n",
    "\"----------\"\n",
    "            _            _       _                 \n",
    "   ___ __ _| | ___ _   _| | __ _| |_ ___  _ __ ___ \n",
    "  / __/ _` | |/ __| | | | |/ _` | __/ _ \\| '__/ __|\n",
    " | (_| (_| | | (__| |_| | | (_| | || (_) | |  \\__ \\\n",
    "  \\___\\__,_|_|\\___|\\__,_|_|\\__,_|\\__\\___/|_|  |___/\n",
    "'''"
   ]
  },
  {
   "cell_type": "code",
   "execution_count": 4,
   "metadata": {},
   "outputs": [
    {
     "name": "stdout",
     "output_type": "stream",
     "text": [
      "Invalid input you lost chance\n"
     ]
    }
   ],
   "source": [
    "#calculator\n",
    "print(art)\n",
    "def add(n1,n2):\n",
    "    '''This function adds two numbers'''\n",
    "    return n1+n2\n",
    "def subtract(n1,n2):\n",
    "    '''This Function is used to subtract two numbers'''\n",
    "    return n1-n2\n",
    "def multiply(n1,n2):\n",
    "    '''This function multiplies two numbers'''\n",
    "    return n1*n2\n",
    "def divide(n1,n2):\n",
    "    return n1/n2\n",
    "#main program\n",
    "operations = {\n",
    "    \"+\":add,\n",
    "    \"-\":subtract,\n",
    "    \"*\":multiply,  \n",
    "    \"/\":divide\n",
    "}\n",
    "def calculation():\n",
    "    num1 = float(input(\"Enter the number :\") )\n",
    "    for symbols in operations:\n",
    "        print(symbols)\n",
    "    game_continue = True\n",
    "    while game_continue:\n",
    "        operation_symbol = input(\"Pick an operation: \")\n",
    "        num2 = float(input(\"Enter the  number: \"))\n",
    "        calulation_function = operations[operation_symbol]\n",
    "        answer = calulation_function(num1,num2)\n",
    "        print(f\"{num1} {operation_symbol} {num2} = {answer}\")\n",
    "        ask = input(f\"Type 'y' to continue calculating with {answer}, or type 'w' to start a new calculation and 'n' to exit calculation : \")\n",
    "        if ask == 'y':\n",
    "            num1 = answer\n",
    "        elif ask =='n':\n",
    "            game_continue = False\n",
    "        else:\n",
    "            game_continue = False\n",
    "            calculation()\n",
    "calculation()\n",
    "        \n",
    "\n",
    "\n"
   ]
  },
  {
   "cell_type": "code",
   "execution_count": null,
   "metadata": {},
   "outputs": [],
   "source": []
  }
 ],
 "metadata": {
  "kernelspec": {
   "display_name": "python_eda",
   "language": "python",
   "name": "python3"
  },
  "language_info": {
   "codemirror_mode": {
    "name": "ipython",
    "version": 3
   },
   "file_extension": ".py",
   "mimetype": "text/x-python",
   "name": "python",
   "nbconvert_exporter": "python",
   "pygments_lexer": "ipython3",
   "version": "3.12.0"
  }
 },
 "nbformat": 4,
 "nbformat_minor": 2
}
