{
 "cells": [
  {
   "cell_type": "code",
   "execution_count": 2,
   "metadata": {},
   "outputs": [
    {
     "name": "stdout",
     "output_type": "stream",
     "text": [
      "Welcome to the rollercoster ride!\n",
      "You can take the ride. Enjoy the journey!\n"
     ]
    }
   ],
   "source": [
    "## first project of day 3\n",
    "\n",
    "print('Welcome to the rollercoster ride!')\n",
    "height = int(input(\"Enter your height in cm: \"))\n",
    "if height >120:\n",
    "    print('You can take the ride. Enjoy the journey!')\n",
    "else:\n",
    "    print('Sorry! but it seems that you are not eligible for taking the ride')"
   ]
  },
  {
   "cell_type": "code",
   "execution_count": 3,
   "metadata": {},
   "outputs": [
    {
     "name": "stdout",
     "output_type": "stream",
     "text": [
      "This is a program that identifies weather a number is even or odd.\n",
      "This is an even integer\n"
     ]
    }
   ],
   "source": [
    "## This is the seconed assignment for the day 3\n",
    "print('This is a program that identifies weather a number is even or odd.')\n",
    "n = int(input(\"Enter the number: \"))\n",
    " \n",
    "if n%2 == 0:\n",
    "    print('This is an even integer')\n",
    "else:\n",
    "    print('this is an odd integer')"
   ]
  },
  {
   "cell_type": "code",
   "execution_count": 7,
   "metadata": {},
   "outputs": [
    {
     "name": "stdout",
     "output_type": "stream",
     "text": [
      "Welcome to the rollercoster ride!\n",
      "You can take the ride. Enjoy the journey!\n",
      "You will have to pay $ 7for the ticket\n"
     ]
    }
   ],
   "source": [
    "## practicing if else statement\n",
    "print('Welcome to the rollercoster ride!')\n",
    "height = int(input(\"Enter your height in cm: \"))\n",
    "age = int(input('Enter your age:  '))\n",
    "if height >120:\n",
    "    print('You can take the ride. Enjoy the journey!')\n",
    "    if age  <12:\n",
    "        print('You will have to pay $5 for the ticket of the rollercoaster')\n",
    "    elif age in range(12,18):\n",
    "        print(\"You will have to pay $7 for the ticket\")\n",
    "    else:\n",
    "        print(\"You will have to pay $12 for your ticket\")\n",
    "else:\n",
    "    print('Sorry! but it seems that you are not eligible for taking the ride')\n"
   ]
  },
  {
   "cell_type": "code",
   "execution_count": 13,
   "metadata": {},
   "outputs": [
    {
     "name": "stdout",
     "output_type": "stream",
     "text": [
      "You are overweight\n"
     ]
    }
   ],
   "source": [
    "## Now we are creating a BMI calculator\n",
    "x = float(input('Enter your weight in kilograms: '))\n",
    "y = float(input('Enter your height in meters: '))\n",
    "\n",
    "t = x / (y ** 2)  # Formula for calculating the BMI\n",
    "\n",
    "'''\n",
    "BMI less than 18.5: Underweight\n",
    "BMI between 18.5 and 24.9: Normal weight\n",
    "BMI between 25 and 29.9: Overweight\n",
    "BMI 30 or above: Obese\n",
    "'''\n",
    "\n",
    "if t < 18.5:\n",
    "    print('You are underweight')\n",
    "elif 18.5 <= t <= 24.9:\n",
    "    print('You have a normal weight')\n",
    "elif 25 <= t <= 29.9:\n",
    "    print('You are overweight')\n",
    "else:\n",
    "    print('You are obese')\n"
   ]
  },
  {
   "cell_type": "code",
   "execution_count": 11,
   "metadata": {},
   "outputs": [
    {
     "name": "stdout",
     "output_type": "stream",
     "text": [
      "Its not a leap year\n"
     ]
    }
   ],
   "source": [
    "## finding that if the year is leap year\n",
    "'''If the year is divisible by 4, it is a leap year, unless...\n",
    "The year is divisible by 100, then it is not a leap year, unless...\n",
    "The year is divisible by 400, then it is a leap year.'''\n",
    "\n",
    "leap_year = int(input(\"enter the year: \"))\n",
    "\n",
    "if leap_year % 4 == 0 and leap_year % 100 != 0 and leap_year % 400 == 0:\n",
    "    print(\"it is a leap year\")\n",
    "else:\n",
    "    print(\"Its not a leap year\")\n",
    "    \n"
   ]
  },
  {
   "cell_type": "code",
   "execution_count": 19,
   "metadata": {},
   "outputs": [
    {
     "name": "stdout",
     "output_type": "stream",
     "text": [
      "Your total cost is $ 28\n"
     ]
    }
   ],
   "source": [
    "## Pizza order program\n",
    "S = 15\n",
    "M = 20\n",
    "L = 25\n",
    "\n",
    "pizza_size = input(\"which pizza size would you like to have, for small pizza enter S,for medium pizza enter M and for Large pizza enter L.\")\n",
    "Chesse_topping = input(\"Would you like to have cheese topping? Y/N: \")\n",
    "Pepperoni_topping = input(\"Would you like to have pepperoni topping? Y/N: \")\n",
    "if pizza_size == 'S':\n",
    "   pizza_price = S\n",
    "elif pizza_size == 'M':\n",
    "    pizza_price = M\n",
    "else:\n",
    "    pizza_price = L\n",
    "\n",
    "if  Chesse_topping == 'Y':\n",
    "    pizza_price=pizza_price+1\n",
    "else:\n",
    "    pizza_price=pizza_price\n",
    "\n",
    "if Pepperoni_topping ==  \"Y\" and pizza_size =='S':\n",
    "     pizza_price = pizza_price+2\n",
    "elif Pepperoni_topping ==  \"Y\" and  pizza_price !=S :\n",
    "    pizza_price = pizza_price+3\n",
    "else:\n",
    "    pizza_price=pizza_price\n",
    "\n",
    "print (\"Your total cost is $\",pizza_price)\n",
    "\n"
   ]
  },
  {
   "cell_type": "code",
   "execution_count": 38,
   "metadata": {},
   "outputs": [
    {
     "name": "stdout",
     "output_type": "stream",
     "text": [
      "Your score is 53\n"
     ]
    }
   ],
   "source": [
    "## Fiding love scores for two peoples\n",
    "\n",
    "your_name= input(f\"Enter your name: \")\n",
    "partner_name = input(\"Enter your crushs name\")\n",
    "\n",
    "n1 = your_name.lower()\n",
    "n2 = partner_name.lower()\n",
    "combined_name=n1+n2\n",
    "lowerd_names = combined_name.lower()\n",
    "t = lowerd_names.count('t')\n",
    "r = lowerd_names.count('r')\n",
    "u = lowerd_names.count('u')\n",
    "e = lowerd_names.count('e')\n",
    "true = str(t+r+u+e)\n",
    "\n",
    "l = lowerd_names.count('l')\n",
    "o = lowerd_names.count('o')\n",
    "v = lowerd_names.count('v')\n",
    "e = lowerd_names.count('e')\n",
    "love =str(l+o+v+e)\n",
    "score = int(true+love)\n",
    "\n",
    "if score <10 or score>90:\n",
    "    print(f\"your score is {score} , You work togethar as coke and mentos\")\n",
    "elif score in range(40,50):\n",
    "    print(f\"your score is {score}, You are alright togethar\")\n",
    "else:\n",
    "    print(f\"Your score is {score}\")"
   ]
  },
  {
   "cell_type": "markdown",
   "metadata": {},
   "source": [
    "## **Final Project**"
   ]
  },
  {
   "cell_type": "code",
   "execution_count": 4,
   "metadata": {},
   "outputs": [
    {
     "name": "stdout",
     "output_type": "stream",
     "text": [
      "Welcome to the treasure Island Game!\n",
      "Game_Over! Better luck next time\n",
      "Game_Over! Better luck next time\n"
     ]
    }
   ],
   "source": [
    "# creating a game\n",
    "\n",
    "print(\"Welcome to the treasure Island Game!\")\n",
    "i1 = input(\"You are on a Island will you like to go left or right?\")\n",
    "\n",
    "if i1 == 'right':\n",
    "   i2 = input(\"Would you like to wait or swim yourself?\")\n",
    "else:\n",
    "    print('Game_Over! Better luck next time')\n",
    "\n",
    "\n",
    "if i2 == 'wait':\n",
    "    i3 = input('Which door would you choose? Red, Blue, Yellow')\n",
    "else:\n",
    "    print(\"Game_Over! Better luck next time\")\n",
    "\n",
    "\n",
    "if i3 == 'Red'or 'Red'.lower():\n",
    "    print(\"Game_Over! Better luck next time\")\n",
    "elif i3 == 'Blue'or 'Blue'.lower():\n",
    "    print(\"Game_Over! Better luck next time\")\n",
    "elif i3 == 'Yellow'or 'Yellow'.lower():\n",
    "    print(\"Congratulations! You won the game. you are the 1% of the users that try to attemp and win.\")\n",
    "else:\n",
    "    print(\"wrong option. that door isn't availible and since you showes careleseness therefore you deserve to lose.\")"
   ]
  },
  {
   "cell_type": "code",
   "execution_count": 17,
   "metadata": {},
   "outputs": [
    {
     "name": "stdout",
     "output_type": "stream",
     "text": [
      "2\n"
     ]
    }
   ],
   "source": [
    "x =\"03173284982\"\n",
    "print(x[10])"
   ]
  },
  {
   "cell_type": "code",
   "execution_count": null,
   "metadata": {},
   "outputs": [],
   "source": []
  }
 ],
 "metadata": {
  "kernelspec": {
   "display_name": "python_eda",
   "language": "python",
   "name": "python3"
  },
  "language_info": {
   "codemirror_mode": {
    "name": "ipython",
    "version": 3
   },
   "file_extension": ".py",
   "mimetype": "text/x-python",
   "name": "python",
   "nbconvert_exporter": "python",
   "pygments_lexer": "ipython3",
   "version": "3.12.0"
  }
 },
 "nbformat": 4,
 "nbformat_minor": 2
}
