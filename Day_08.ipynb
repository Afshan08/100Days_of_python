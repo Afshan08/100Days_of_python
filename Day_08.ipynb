{
 "cells": [
  {
   "cell_type": "code",
   "execution_count": 6,
   "metadata": {},
   "outputs": [
    {
     "name": "stdout",
     "output_type": "stream",
     "text": [
      "Hello Afshan\n",
      "What sweet do you like in Karachi?\n"
     ]
    }
   ],
   "source": [
    "# def greet(x):\n",
    "#     print(f\"Hello {x}\")\n",
    "#     print(f\"How do you do {x}?\")\n",
    "#     print(\"Isn't the weather nice today?\")\n",
    "# greet(\"Afshan\")\n",
    "# Function with multiple parameter\n",
    "def greet(name , location):\n",
    "    print(f\"Hello {name}\")\n",
    "    print(f\"What sweet do you like in {location}?\")    \n",
    "greet(\"Afshan\",\"Karachi\")"
   ]
  },
  {
   "cell_type": "markdown",
   "metadata": {},
   "source": [
    "## **Day08.1 Challenge**"
   ]
  },
  {
   "cell_type": "code",
   "execution_count": 7,
   "metadata": {},
   "outputs": [
    {
     "name": "stdout",
     "output_type": "stream",
     "text": [
      "The area is:  8\n",
      "The coverage is:  1.6\n"
     ]
    }
   ],
   "source": [
    "# making a coverage of paint acording to area calculator\n",
    "def paint_calc(height,width):\n",
    "    area = height * width\n",
    "    print(\"The area is: \",area)\n",
    "    cover = area / 5   # assuming that one can cover 5m square\n",
    "    print(\"The coverage is: \",cover)\n",
    "\n",
    "# test the function with some values\n",
    "paint_calc(2,4)\n",
    "\n"
   ]
  },
  {
   "cell_type": "code",
   "execution_count": 8,
   "metadata": {},
   "outputs": [
    {
     "name": "stdout",
     "output_type": "stream",
     "text": [
      "It's a prime number\n"
     ]
    }
   ],
   "source": [
    "# Finding If a number is prime number\n",
    "def is_prime(n):\n",
    "    if n <= 1:\n",
    "        return False\n",
    "    for i in range(2, int(n**0.5)+1):\n",
    "        if n % i == 0:\n",
    "            return False\n",
    "        else:\n",
    "            return True\n",
    "number = input(\"Enter the number you want to check if it is prime or not: \")\n",
    "if is_prime(int(number)):\n",
    "    print(\"It's a prime number\")\n",
    "else:\n",
    "    print( \"It's not a prime number\")\n",
    "    \n",
    "        \n",
    "\n"
   ]
  },
  {
   "cell_type": "markdown",
   "metadata": {},
   "source": [
    "### **Final Project : Encoder and Decoder of Special Encoded Messeges**"
   ]
  },
  {
   "cell_type": "code",
   "execution_count": 2,
   "metadata": {},
   "outputs": [
    {
     "name": "stdout",
     "output_type": "stream",
     "text": [
      "                                                             \n",
      "           88             88                                 \n",
      "           \"\"             88                                 \n",
      "                          88                                 \n",
      " ,adPPYba, 88 8b,dPPYba,  88,dPPYba,   ,adPPYba, 8b,dPPYba,  \n",
      "a8\"     \"\" 88 88P'    \"8a 88P'    \"8a a8P_____88 88P'   \"Y8  \n",
      "8b         88 88       d8 88       88 8PP\"\"\"\"\"\"\" 88          \n",
      "\"8a,   ,aa 88 88b,   ,a8\" 88       88 \"8b,   ,aa 88          \n",
      " `\"Ybbd8\"' 88 88`YbbdP\"'  88       88  `\"Ybbd8\"' 88          \n",
      "              88                                             \n",
      "              88   \n",
      " Welcome to Caesar Cipher program\n",
      "Type 'encode' to encrypt, type 'decode' to decrypt:\n",
      "\n",
      "encode\n",
      "Type your message: \n",
      "i am afshan\n",
      "Type the shift number: \n",
      "5\n",
      "n fr fkxmfs\n",
      "Type 'encode' to encrypt, type 'decode' to decrypt:\n",
      "\n",
      "decode\n",
      "Type your message: \n",
      "n fr fkxmfs\n",
      "Type the shift number: \n",
      "5\n",
      "i am afshan\n",
      "Type 'encode' to encrypt, type 'decode' to decrypt:\n",
      "\n",
      "I am Afshan\n",
      "Type your message: \n",
      "5\n",
      "Type the shift number: \n"
     ]
    },
    {
     "ename": "ValueError",
     "evalue": "invalid literal for int() with base 10: ''",
     "output_type": "error",
     "traceback": [
      "\u001b[1;31m---------------------------------------------------------------------------\u001b[0m",
      "\u001b[1;31mValueError\u001b[0m                                Traceback (most recent call last)",
      "Cell \u001b[1;32mIn[2], line 35\u001b[0m\n\u001b[0;32m     33\u001b[0m text \u001b[38;5;241m=\u001b[39m \u001b[38;5;28minput\u001b[39m(\u001b[38;5;28mprint\u001b[39m(\u001b[38;5;124m\"\u001b[39m\u001b[38;5;124mType your message: \u001b[39m\u001b[38;5;124m\"\u001b[39m))\u001b[38;5;241m.\u001b[39mlower()\n\u001b[0;32m     34\u001b[0m \u001b[38;5;28mprint\u001b[39m(text)\n\u001b[1;32m---> 35\u001b[0m shift \u001b[38;5;241m=\u001b[39m \u001b[38;5;28;43mint\u001b[39;49m\u001b[43m(\u001b[49m\u001b[38;5;28;43minput\u001b[39;49m\u001b[43m(\u001b[49m\u001b[38;5;28;43mprint\u001b[39;49m\u001b[43m(\u001b[49m\u001b[43m(\u001b[49m\u001b[38;5;124;43m\"\u001b[39;49m\u001b[38;5;124;43mType the shift number: \u001b[39;49m\u001b[38;5;124;43m\"\u001b[39;49m\u001b[43m)\u001b[49m\u001b[43m)\u001b[49m\u001b[43m)\u001b[49m\u001b[43m)\u001b[49m\n\u001b[0;32m     36\u001b[0m \u001b[38;5;28mprint\u001b[39m(shift)\n\u001b[0;32m     37\u001b[0m caesar(direction,text,shift)\n",
      "\u001b[1;31mValueError\u001b[0m: invalid literal for int() with base 10: ''"
     ]
    }
   ],
   "source": [
    "asci_art = '''                                                             \n",
    "           88             88                                 \n",
    "           \"\"             88                                 \n",
    "                          88                                 \n",
    " ,adPPYba, 88 8b,dPPYba,  88,dPPYba,   ,adPPYba, 8b,dPPYba,  \n",
    "a8\"     \"\" 88 88P'    \"8a 88P'    \"8a a8P_____88 88P'   \"Y8  \n",
    "8b         88 88       d8 88       88 8PP\"\"\"\"\"\"\" 88          \n",
    "\"8a,   ,aa 88 88b,   ,a8\" 88       88 \"8b,   ,aa 88          \n",
    " `\"Ybbd8\"' 88 88`YbbdP\"'  88       88  `\"Ybbd8\"' 88          \n",
    "              88                                             \n",
    "              88   '''\n",
    "\n",
    "print(f\"{asci_art}\\n Welcome to Caesar Cipher program\")\n",
    "def caesar(direction,plain_text,shift_amount):\n",
    "    ciphered_text = \"\"\n",
    "    shift_amount = shift_amount%26\n",
    "    if direction == 'decode':\n",
    "        shift_amount= shift_amount*-1\n",
    "    for n in plain_text:\n",
    "        if n in alphabet:\n",
    "            i = alphabet.index(n)\n",
    "            new_position = i + shift_amount\n",
    "            ciphered_text+=alphabet[new_position]\n",
    "        if n not in alphabet:\n",
    "            ciphered_text+=(n)\n",
    "    print(ciphered_text)\n",
    "\n",
    "should_continue = True\n",
    "while should_continue:\n",
    "    alphabet = ['a', 'b', 'c', 'd', 'e', 'f', 'g', 'h', 'i', 'j', 'k', 'l', 'm', 'n', 'o', 'p', 'q', 'r', 's', 't', 'u', 'v', 'w', 'x', 'y', 'z','a', 'b', 'c', 'd', 'e', 'f', 'g', 'h', 'i', 'j', 'k', 'l', 'm', 'n', 'o', 'p', 'q', 'r', 's', 't', 'u', 'v', 'w', 'x', 'y', 'z']\n",
    "    direction = input(print(\"Type 'encode' to encrypt, type 'decode' to decrypt:\\n\"))\n",
    "    print(direction)\n",
    "    text = input(print(\"Type your message: \")).lower()\n",
    "    print(text)\n",
    "    shift = int(input(print((\"Type the shift number: \"))))\n",
    "    print(shift)\n",
    "    caesar(direction,text,shift)\n",
    "    decision = input(\"Type 'yes' if you want to go again. Otherwise type 'no'.\\n\").lower()\n",
    "    if decision == 'no':\n",
    "        should_continue = False\n",
    "        print(\"\\n Goodbye\")"
   ]
  },
  {
   "cell_type": "code",
   "execution_count": null,
   "metadata": {},
   "outputs": [],
   "source": []
  }
 ],
 "metadata": {
  "kernelspec": {
   "display_name": "python_eda",
   "language": "python",
   "name": "python3"
  },
  "language_info": {
   "codemirror_mode": {
    "name": "ipython",
    "version": 3
   },
   "file_extension": ".py",
   "mimetype": "text/x-python",
   "name": "python",
   "nbconvert_exporter": "python",
   "pygments_lexer": "ipython3",
   "version": "3.12.0"
  }
 },
 "nbformat": 4,
 "nbformat_minor": 2
}
