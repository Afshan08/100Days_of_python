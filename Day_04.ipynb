{
 "cells": [
  {
   "cell_type": "code",
   "execution_count": 2,
   "metadata": {},
   "outputs": [],
   "source": [
    "# Practicing random function\n",
    "import random as rd\n"
   ]
  },
  {
   "cell_type": "code",
   "execution_count": 3,
   "metadata": {},
   "outputs": [
    {
     "data": {
      "text/plain": [
       "7"
      ]
     },
     "execution_count": 3,
     "metadata": {},
     "output_type": "execute_result"
    }
   ],
   "source": [
    "rd.randint(6,15)\n"
   ]
  },
  {
   "cell_type": "code",
   "execution_count": 4,
   "metadata": {},
   "outputs": [
    {
     "name": "stdout",
     "output_type": "stream",
     "text": [
      "4.319462426531381\n"
     ]
    }
   ],
   "source": [
    "x=rd.random()\n",
    "print(x*5)"
   ]
  },
  {
   "cell_type": "code",
   "execution_count": 10,
   "metadata": {},
   "outputs": [
    {
     "name": "stdout",
     "output_type": "stream",
     "text": [
      "tails\n"
     ]
    }
   ],
   "source": [
    "random_side = rd.randint(0,1)\n",
    "\n",
    "if random_side == 1:\n",
    "    print(\"heads\")\n",
    "else:\n",
    "    print(\"tails\")\n"
   ]
  },
  {
   "cell_type": "markdown",
   "metadata": {},
   "source": [
    "## **Another challenge with lists**"
   ]
  },
  {
   "cell_type": "code",
   "execution_count": 11,
   "metadata": {},
   "outputs": [
    {
     "name": "stdout",
     "output_type": "stream",
     "text": [
      "Afshan  is going to pay the bill\n"
     ]
    }
   ],
   "source": [
    "\n",
    "random_names = input('Insert the names of the players, separated by commas: ')\n",
    "list_of_names = random_names.split(\",\")\n",
    "random_number = rd.randint(0, len(list_of_names)-1)\n",
    "print(f\"{list_of_names[random_number]} is going to pay the bill\")"
   ]
  },
  {
   "cell_type": "code",
   "execution_count": 12,
   "metadata": {},
   "outputs": [],
   "source": [
    "# Making nested lists\n",
    "# dirty dozen = [ strawberries, spinach, kale, collard and mustard greens, grapes, peaches,\n",
    "# pears, nectarines,apples, bell and hot peppers, cherries, blueberries and green beans]\n",
    "fruits = ['strawberries',' grapes','peaches',' pears',' nectarines',' apples',' bell and hot peppers',' cherries',' blueberries',' green beans']\n",
    "vegetables = ['spinach','kale','collard ',' mustard greens']\n",
    "\n",
    "dirty_dozen = [fruits,vegetables]"
   ]
  },
  {
   "cell_type": "code",
   "execution_count": 15,
   "metadata": {},
   "outputs": [
    {
     "name": "stdout",
     "output_type": "stream",
     "text": [
      " nectarines\n"
     ]
    }
   ],
   "source": [
    "print(dirty_dozen[0][4])"
   ]
  },
  {
   "cell_type": "markdown",
   "metadata": {},
   "source": [
    "# **Making the final project**"
   ]
  },
  {
   "cell_type": "code",
   "execution_count": 24,
   "metadata": {},
   "outputs": [
    {
     "name": "stdout",
     "output_type": "stream",
     "text": [
      "computer chose scissors!\n",
      "you win!\n"
     ]
    }
   ],
   "source": [
    "# Rock, paper sicorrs\n",
    "\n",
    "choice = int(input('Would you rather choose rock, paper or scissors?, type 0 for rock, 1 for paper, 2 for scissors: '))\n",
    "\n",
    "choice1 = choice\n",
    "random_choice= rd.randint(0,2)\n",
    "if random_choice == 0:\n",
    "    print('computer choses rock!')\n",
    "elif random_choice == 1:\n",
    "    print('computer chose paper!')\n",
    "else:\n",
    "    print('computer chose scissors!')\n",
    "\n",
    "if random_choice == choice1:\n",
    "    print('its a tie!')\n",
    "elif random_choice ==0 and choice1 == 1:\n",
    "    print(\"you win!\")\n",
    "elif random_choice == 1 and choice1 == 2:\n",
    "    print('You win!')\n",
    "elif random_choice == 2 and choice1 == 0:\n",
    "    print(\"you win!\")\n",
    "elif random_choice == 0 and choice1 == 2:\n",
    "    print('you lose!')\n",
    "elif random_choice == 1 and choice1 == 0:\n",
    "    print('you lose!')\n",
    "elif random_choice ==2 and choice1 == 1:\n",
    "    print('you lose!')\n",
    "else:\n",
    "    print('invalid input')\n"
   ]
  }
 ],
 "metadata": {
  "kernelspec": {
   "display_name": "python_eda",
   "language": "python",
   "name": "python3"
  },
  "language_info": {
   "codemirror_mode": {
    "name": "ipython",
    "version": 3
   },
   "file_extension": ".py",
   "mimetype": "text/x-python",
   "name": "python",
   "nbconvert_exporter": "python",
   "pygments_lexer": "ipython3",
   "version": "3.12.0"
  }
 },
 "nbformat": 4,
 "nbformat_minor": 2
}
